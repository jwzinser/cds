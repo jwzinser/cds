{
 "cells": [
  {
   "cell_type": "markdown",
   "metadata": {},
   "source": [
    "# Data Preprocessing"
   ]
  },
  {
   "cell_type": "code",
   "execution_count": 1,
   "metadata": {},
   "outputs": [],
   "source": [
    "import pandas as pd\n",
    "import numpy as np\n",
    "import matplotlib.pyplot as plt\n",
    "from itertools import product\n",
    "import xgboost as xgb\n",
    "%matplotlib inline"
   ]
  },
  {
   "cell_type": "code",
   "execution_count": 2,
   "metadata": {},
   "outputs": [],
   "source": [
    "test = pd.read_csv('data/test.csv')\n",
    "shop = pd.read_csv('data/shops.csv')\n",
    "submission = pd.read_csv('data/sample_submission.csv')\n",
    "sales = pd.read_csv('data/sales_train.csv')\n",
    "items = pd.read_csv('data/items.csv')\n",
    "item_category = pd.read_csv('data/item_categories.csv')"
   ]
  },
  {
   "cell_type": "code",
   "execution_count": 3,
   "metadata": {},
   "outputs": [
    {
     "data": {
      "text/html": [
       "<div>\n",
       "<style>\n",
       "    .dataframe thead tr:only-child th {\n",
       "        text-align: right;\n",
       "    }\n",
       "\n",
       "    .dataframe thead th {\n",
       "        text-align: left;\n",
       "    }\n",
       "\n",
       "    .dataframe tbody tr th {\n",
       "        vertical-align: top;\n",
       "    }\n",
       "</style>\n",
       "<table border=\"1\" class=\"dataframe\">\n",
       "  <thead>\n",
       "    <tr style=\"text-align: right;\">\n",
       "      <th></th>\n",
       "      <th>item_category_name</th>\n",
       "      <th>item_category_id</th>\n",
       "      <th>cats</th>\n",
       "    </tr>\n",
       "  </thead>\n",
       "  <tbody>\n",
       "    <tr>\n",
       "      <th>0</th>\n",
       "      <td>PC - Гарнитуры/Наушники</td>\n",
       "      <td>0</td>\n",
       "      <td>PC - Гарнитуры/Наушники</td>\n",
       "    </tr>\n",
       "    <tr>\n",
       "      <th>1</th>\n",
       "      <td>Аксессуары - PS2</td>\n",
       "      <td>1</td>\n",
       "      <td>Access</td>\n",
       "    </tr>\n",
       "    <tr>\n",
       "      <th>2</th>\n",
       "      <td>Аксессуары - PS3</td>\n",
       "      <td>2</td>\n",
       "      <td>Access</td>\n",
       "    </tr>\n",
       "    <tr>\n",
       "      <th>3</th>\n",
       "      <td>Аксессуары - PS4</td>\n",
       "      <td>3</td>\n",
       "      <td>Access</td>\n",
       "    </tr>\n",
       "    <tr>\n",
       "      <th>4</th>\n",
       "      <td>Аксессуары - PSP</td>\n",
       "      <td>4</td>\n",
       "      <td>Access</td>\n",
       "    </tr>\n",
       "  </tbody>\n",
       "</table>\n",
       "</div>"
      ],
      "text/plain": [
       "        item_category_name  item_category_id                     cats\n",
       "0  PC - Гарнитуры/Наушники                 0  PC - Гарнитуры/Наушники\n",
       "1         Аксессуары - PS2                 1                   Access\n",
       "2         Аксессуары - PS3                 2                   Access\n",
       "3         Аксессуары - PS4                 3                   Access\n",
       "4         Аксессуары - PSP                 4                   Access"
      ]
     },
     "execution_count": 3,
     "metadata": {},
     "output_type": "execute_result"
    }
   ],
   "source": [
    "l = list(item_category.item_category_name)\n",
    "l_cat = l\n",
    "\n",
    "for ind in range(1,8):\n",
    "    l_cat[ind] = 'Access'\n",
    "\n",
    "for ind in range(10,18):\n",
    "    l_cat[ind] = 'Consoles'\n",
    "\n",
    "for ind in range(18,25):\n",
    "    l_cat[ind] = 'Consoles Games'\n",
    "\n",
    "for ind in range(26,28):\n",
    "    l_cat[ind] = 'phone games'\n",
    "\n",
    "for ind in range(28,32):\n",
    "    l_cat[ind] = 'CD games'\n",
    "\n",
    "for ind in range(32,37):\n",
    "    l_cat[ind] = 'Card'\n",
    "\n",
    "for ind in range(37,43):\n",
    "    l_cat[ind] = 'Movie'\n",
    "\n",
    "for ind in range(43,55):\n",
    "    l_cat[ind] = 'Books'\n",
    "\n",
    "for ind in range(55,61):\n",
    "    l_cat[ind] = 'Music'\n",
    "\n",
    "for ind in range(61,73):\n",
    "    l_cat[ind] = 'Gifts'\n",
    "\n",
    "for ind in range(73,79):\n",
    "    l_cat[ind] = 'Soft'\n",
    "\n",
    "item_category['cats'] = l_cat\n",
    "item_category.head()"
   ]
  },
  {
   "cell_type": "code",
   "execution_count": 4,
   "metadata": {},
   "outputs": [],
   "source": [
    "index_cols = ['shop_id', 'item_id', 'date_block_num']\n",
    "\n",
    "#Compute all shops/items combinations for each date block\n",
    "grid = []\n",
    "for block_num in sales['date_block_num'].unique():\n",
    "    cur_shops = sales.loc[sales['date_block_num'] == block_num, 'shop_id'].unique()\n",
    "    cur_items = sales.loc[sales['date_block_num'] == block_num, 'item_id'].unique()\n",
    "    grid.append(np.array(list(product(*[cur_shops, cur_items, [block_num]])),dtype='int32'))\n",
    "grid = pd.DataFrame(np.vstack(grid), columns = index_cols,dtype=np.int32)\n",
    "\n",
    "# filter extrme values in price and count sells\n",
    "sales = sales[sales.item_price<100000]\n",
    "sales = sales[sales.item_cnt_day<=900]"
   ]
  },
  {
   "cell_type": "markdown",
   "metadata": {},
   "source": [
    "# Grouping sales by (date, shop, item), get the:\n",
    "+ Sum of item_cnt_dat \n",
    "+ Mean of item_price_day"
   ]
  },
  {
   "cell_type": "code",
   "execution_count": 5,
   "metadata": {},
   "outputs": [],
   "source": [
    "sales_dsi = sales.groupby(['date_block_num','shop_id','item_id']).agg({'item_cnt_day': 'sum',\n",
    "                                                                     'item_price': np.mean}).reset_index()\n",
    "sales_dsi = pd.merge(grid,sales_dsi,on=['date_block_num','shop_id','item_id'],how='left').fillna(0)\n",
    "sales_dsi = pd.merge(sales_dsi, items, on=['item_id'],how='left')\n",
    "sales_dsi = pd.merge(sales_dsi, item_category, on=['item_category_id'], how='left')"
   ]
  },
  {
   "cell_type": "markdown",
   "metadata": {},
   "source": [
    "# Grouping sales by (date and (shop, item, and category)), and get the: \n",
    "+ Average of the of item_price\n",
    "+ Sum and average of the item_cnt_day"
   ]
  },
  {
   "cell_type": "code",
   "execution_count": 6,
   "metadata": {},
   "outputs": [],
   "source": [
    "for type_id in ['item_id','shop_id','item_category_id']:\n",
    "    for column_id, agg_func, func_name in [('item_price',np.mean,'avg'),\n",
    "                                           ('item_cnt_day',np.sum,'sum'),\n",
    "                                           ('item_cnt_day',np.mean,'avg')]:\n",
    "\n",
    "        mean_df = sales_dsi.groupby([type_id,'date_block_num']).agg(agg_func).reset_index()[[column_id,type_id,'date_block_num']]\n",
    "        mean_df.columns = [type_id+'_'+func_name+'_'+column_id, type_id,'date_block_num']\n",
    "        \n",
    "        sales_dsi = pd.merge(sales_dsi,mean_df,on=['date_block_num', type_id],how='left')\n",
    "\n",
    "temp_test = test.copy()\n",
    "temp_test['date_block_num'] = 34\n",
    "temp_test.drop('ID', axis=1, inplace=True)\n",
    "\n",
    "temp_test = temp_test.merge(items, how='left', on='item_id')\n",
    "temp_test = temp_test.merge(item_category, how='left', on='item_category_id')\n",
    "temp_test.drop('item_name', axis=1, inplace=True)\n",
    "sales_dsi.drop('item_name', axis=1, inplace=True)\n",
    "sales_dsi = pd.concat([sales_dsi,temp_test], axis=0, ignore_index=True)\n"
   ]
  },
  {
   "cell_type": "code",
   "execution_count": 7,
   "metadata": {},
   "outputs": [],
   "source": [
    "features_vars  = ['item_id_avg_item_price', 'item_id_sum_item_cnt_day', 'item_id_avg_item_cnt_day',\n",
    "                  'shop_id_avg_item_price', 'shop_id_sum_item_cnt_day', 'shop_id_avg_item_cnt_day',\n",
    "                  'item_category_id_avg_item_price', 'item_category_id_sum_item_cnt_day', 'item_category_id_avg_item_cnt_day',\n",
    "                  'item_cnt_day']\n",
    "\n",
    "# creates the lag in a way that for date_block_num ith, the number nth lagged variable corresponds to the \n",
    "# value of the non lagged variable in the block (i-n), the non lagged variables are droped from the dataframe \n",
    "# to consider only past values.\n",
    "sales_copy = sales_dsi.copy()\n",
    "sales_copy.date_block_num+=1\n",
    "sales_copy = sales_copy[['date_block_num','shop_id','item_id'] + features_vars]\n",
    "sales_copy.columns = ['date_block_num','shop_id','item_id'] + [lag_feat+'_lag_1' for \n",
    "                                                               lag_feat in features_vars]\n",
    "sales_dsi = sales_dsi.merge(sales_copy,on=['date_block_num','shop_id','item_id'] ,how='left')\n",
    "\n",
    "sales_copy = sales_dsi.copy()\n",
    "sales_copy.date_block_num+=2\n",
    "sales_copy = sales_copy[['date_block_num','shop_id','item_id'] + features_vars]\n",
    "sales_copy.columns = ['date_block_num','shop_id','item_id'] + [lag_feat+'_lag_2' for \n",
    "                                                               lag_feat in features_vars]\n",
    "sales_dsi = sales_dsi.merge(sales_copy,on=['date_block_num','shop_id','item_id'] ,how='left')"
   ]
  },
  {
   "cell_type": "code",
   "execution_count": 8,
   "metadata": {},
   "outputs": [],
   "source": [
    "# fills na accordingly to cnt or price\n",
    "for feat in sales_dsi.columns:\n",
    "    if 'item_cnt' in feat:\n",
    "        sales_dsi[feat]=sales_dsi[feat].fillna(0)\n",
    "    elif 'item_price' in feat:\n",
    "        sales_dsi[feat]=sales_dsi[feat].fillna(sales_dsi[feat].median())"
   ]
  },
  {
   "cell_type": "code",
   "execution_count": 9,
   "metadata": {},
   "outputs": [],
   "source": [
    "# filter first 40% of dates considering nly recent history will matter to predict future\n",
    "cols_to_drop = features_vars[:-1] + ['item_price']\n",
    "sales_dsi = sales_dsi[sales_dsi['date_block_num'] > 12]\n",
    "X_train = sales_dsi[sales_dsi['date_block_num']<33].drop(cols_to_drop, axis=1)\n",
    "X_cv =  sales_dsi[sales_dsi['date_block_num']==33].drop(cols_to_drop, axis=1)\n",
    "X_test = sales_dsi[sales_dsi['date_block_num']==34].drop(cols_to_drop, axis=1)\n",
    "for X_df in [X_train, X_cv, X_test]:\n",
    "    X_df['item_cnt_day'] = X_df['item_cnt_day'].clip_upper(40)\n",
    "    X_df['item_cnt_day'] = X_df['item_cnt_day'].clip_lower(0)"
   ]
  },
  {
   "cell_type": "code",
   "execution_count": 10,
   "metadata": {},
   "outputs": [],
   "source": [
    "params = {\n",
    "        'eta': 0.08, #best 0.08\n",
    "        'max_depth': 7,\n",
    "        'objective': 'reg:linear',\n",
    "        'eval_metric': 'rmse',\n",
    "        'seed': 3,\n",
    "        'gamma':1,\n",
    "        'silent': True\n",
    "    }\n",
    "cols = [c for c in X_train.columns if c not in ['date_block_num', 'item_cnt_day', 'item_category_name', \"cats\"]]\n",
    "\n",
    "x1 = X_train[cols]\n",
    "y1 = X_train['item_cnt_day']\n",
    "x2 = X_cv[cols]\n",
    "y2 = X_cv['item_cnt_day']"
   ]
  },
  {
   "cell_type": "markdown",
   "metadata": {},
   "source": [
    "# Final features to train the model with"
   ]
  },
  {
   "cell_type": "code",
   "execution_count": 11,
   "metadata": {},
   "outputs": [
    {
     "data": {
      "text/plain": [
       "['item_category_id',\n",
       " 'item_id',\n",
       " 'shop_id',\n",
       " 'item_id_avg_item_price_lag_1',\n",
       " 'item_id_sum_item_cnt_day_lag_1',\n",
       " 'item_id_avg_item_cnt_day_lag_1',\n",
       " 'shop_id_avg_item_price_lag_1',\n",
       " 'shop_id_sum_item_cnt_day_lag_1',\n",
       " 'shop_id_avg_item_cnt_day_lag_1',\n",
       " 'item_category_id_avg_item_price_lag_1',\n",
       " 'item_category_id_sum_item_cnt_day_lag_1',\n",
       " 'item_category_id_avg_item_cnt_day_lag_1',\n",
       " 'item_cnt_day_lag_1',\n",
       " 'item_id_avg_item_price_lag_2',\n",
       " 'item_id_sum_item_cnt_day_lag_2',\n",
       " 'item_id_avg_item_cnt_day_lag_2',\n",
       " 'shop_id_avg_item_price_lag_2',\n",
       " 'shop_id_sum_item_cnt_day_lag_2',\n",
       " 'shop_id_avg_item_cnt_day_lag_2',\n",
       " 'item_category_id_avg_item_price_lag_2',\n",
       " 'item_category_id_sum_item_cnt_day_lag_2',\n",
       " 'item_category_id_avg_item_cnt_day_lag_2',\n",
       " 'item_cnt_day_lag_2']"
      ]
     },
     "execution_count": 11,
     "metadata": {},
     "output_type": "execute_result"
    }
   ],
   "source": [
    "cols"
   ]
  },
  {
   "cell_type": "code",
   "execution_count": 24,
   "metadata": {},
   "outputs": [],
   "source": [
    "watchlist = [(xgb.DMatrix(x1, y1), 'train'), (xgb.DMatrix(x2, y2), 'valid')]\n",
    "model = xgb.train(params, xgb.DMatrix(x1, y1), 3500,  watchlist, maximize=False, verbose_eval=50, early_stopping_rounds=50)\n",
    "\n",
    "pred = model.predict(xgb.DMatrix(X_test[cols]), ntree_limit=model.best_ntree_limit)\n",
    "\n",
    "test['item_cnt_month'] = pred.clip(0,20)\n",
    "test.drop(['shop_id', 'item_id'], axis=1, inplace=True)\n",
    "test.to_csv('submission2lag.csv', index=False)"
   ]
  }
 ],
 "metadata": {
  "kernelspec": {
   "display_name": "Python 3",
   "language": "python",
   "name": "python3"
  },
  "language_info": {
   "codemirror_mode": {
    "name": "ipython",
    "version": 3
   },
   "file_extension": ".py",
   "mimetype": "text/x-python",
   "name": "python",
   "nbconvert_exporter": "python",
   "pygments_lexer": "ipython3",
   "version": "3.6.4"
  }
 },
 "nbformat": 4,
 "nbformat_minor": 2
}
