{
 "cells": [
  {
   "cell_type": "markdown",
   "metadata": {
    "_cell_guid": "14b098d6-30cb-4c55-bdcd-5fbdc268c00c",
    "_uuid": "6a5ab7cfb4063ae54f069c1ece66c00c0b036716"
   },
   "source": [
    "# Imports"
   ]
  },
  {
   "cell_type": "code",
   "execution_count": 2,
   "metadata": {
    "_cell_guid": "a20fb054-4cee-43fd-92ce-1904da9ea64f",
    "_uuid": "ec375c3a1948d897315633e578831f8d3e305e94",
    "collapsed": true
   },
   "outputs": [],
   "source": [
    "import os\n",
    "import time\n",
    "import numpy as np\n",
    "import pandas as pd\n",
    "\n",
    "from sklearn.preprocessing import FunctionTransformer\n",
    "from sklearn.pipeline import make_pipeline"
   ]
  },
  {
   "cell_type": "markdown",
   "metadata": {
    "_cell_guid": "43bd2436-1192-4eee-8f1d-4716d4bb3e17",
    "_uuid": "8c9b6d06e32c35af385a4ce9899dc6fbf0c4a8ab"
   },
   "source": [
    "# Submission Util"
   ]
  },
  {
   "cell_type": "code",
   "execution_count": 4,
   "metadata": {
    "_cell_guid": "b5b166ac-8fec-45f4-9793-6432974838e7",
    "_uuid": "941599ba803f53e895e6981f4d1e3db5b8695f48",
    "collapsed": true
   },
   "outputs": [],
   "source": [
    "def submission_df(shop_id_item_id_item_cnt_month_df):\n",
    "    test_df = pd.read_csv(\"data/test.csv.gz\")\n",
    "    sub_df = test_df.merge(shop_id_item_id_item_cnt_month_df, on=[\"shop_id\", \"item_id\"], how=\"left\")[[\"ID\", \"item_cnt_month\"]]\n",
    "    sub_df[\"item_cnt_month\"] = sub_df.item_cnt_month.fillna(0).clip(0, 20)\n",
    "    return sub_df\n",
    "\n",
    "def create_submission_file(shop_id_item_id_item_cnt_day_df, submission_name=\"submission\", add_timestamp=True):\n",
    "    if add_timestamp:\n",
    "        submission_name = \"%s_%d\" % (submission_name, time.time())\n",
    "\n",
    "    path = os.path.abspath(os.path.join(\"submissions/%s.csv\" % submission_name))\n",
    "    base_dir = os.path.dirname(path)\n",
    "    if not os.path.exists(base_dir):\n",
    "        os.makedirs(base_dir)\n",
    "        \n",
    "    sub_df = submission_df(shop_id_item_id_item_cnt_day_df)\n",
    "    sub_df.to_csv(path, sep=\",\", index=False)"
   ]
  },
  {
   "cell_type": "markdown",
   "metadata": {
    "_cell_guid": "1f455667-56d8-471f-88ce-e70f00186db8",
    "_uuid": "6b2cf9526b64fa1c0aaef8a7a9de3c44bdb50e72"
   },
   "source": [
    "# Preprocessing Util"
   ]
  },
  {
   "cell_type": "code",
   "execution_count": 5,
   "metadata": {
    "_cell_guid": "a00d7389-b44a-4e60-817a-07150762b0f9",
    "_uuid": "f2245907fbf1a455145a9f38ed70a0c8ebc4a0a2",
    "collapsed": true
   },
   "outputs": [],
   "source": [
    "def parse_date(df):\n",
    "    _df = df.copy()\n",
    "    _df[\"date\"] = pd.to_datetime(_df.date, format=\"%d.%m.%Y\")\n",
    "    return _df\n",
    "\n",
    "def day_month_year(df):\n",
    "    _df = df.copy()\n",
    "    _df[\"day\"] = _df.date.apply(lambda x: x.day)\n",
    "    _df[\"month\"] = _df.date.apply(lambda x: x.month)\n",
    "    _df[\"year\"] = _df.date.apply(lambda x: x.year)\n",
    "    return _df\n",
    "\n",
    "# Transformers\n",
    "parse_date_transformer = FunctionTransformer(parse_date, validate=False)\n",
    "day_month_year_transformer = FunctionTransformer(day_month_year, validate=False)\n",
    "\n",
    "# Pipelines\n",
    "date_pipeline = make_pipeline(parse_date_transformer, day_month_year_transformer)\n",
    "\n",
    "# Main Pipeline\n",
    "preprocessing_pipeline = make_pipeline(date_pipeline)\n"
   ]
  },
  {
   "cell_type": "markdown",
   "metadata": {
    "_cell_guid": "df548e7d-8ad6-4b4c-a91e-34ecccce5b54",
    "_uuid": "f9247af3e5fb4a3662609ea1514a327f2afbd692"
   },
   "source": [
    "# Load Data"
   ]
  },
  {
   "cell_type": "code",
   "execution_count": 6,
   "metadata": {
    "_cell_guid": "47e2daa0-5b1c-43e2-8812-c4fbe7183e6d",
    "_uuid": "0ed8be590c23fcc4348c7516e29e5cc81597252c",
    "collapsed": true
   },
   "outputs": [],
   "source": [
    "sales_df = preprocessing_pipeline.transform(pd.read_csv(\"data/sales_train.csv.gz\"))\n",
    "test_df = pd.read_csv(\"data/test.csv.gz\")"
   ]
  },
  {
   "cell_type": "markdown",
   "metadata": {
    "_cell_guid": "00ed5ff8-bdd2-475f-858f-de8d162039b1",
    "_uuid": "91cb56168bcdbd251fc1bf3953ed2851d3850180"
   },
   "source": [
    "# Previous Value Benchmark "
   ]
  },
  {
   "cell_type": "markdown",
   "metadata": {
    "_cell_guid": "5af61977-b687-4230-98ce-045b34a45a5a",
    "_uuid": "a7efde2ee9143f2fc0a52e97b933ee7ea68e7755"
   },
   "source": [
    "A good exercise is to reproduce previous_value_benchmark. As the name suggest - in this benchmark for the each shop/item pair our predictions are just monthly sales from the previous month, i.e. October 2015.\n",
    "\n",
    "The most important step at reproducing this score is correctly aggregating daily data and constructing monthly sales data frame. You need to get lagged values, fill NaNs with zeros and clip the values into [0,20] range. If you do it correctly, you'll get precisely 1.16777 on the public leaderboard.\n",
    "\n",
    "Generating features like this is a necessary basis for more complex models. Also, if you decide to fit some model, don't forget to clip the target into [0,20] range, it makes a big difference."
   ]
  },
  {
   "cell_type": "code",
   "execution_count": 7,
   "metadata": {
    "_cell_guid": "79c7e3d0-c299-4dcb-8224-4455121ee9b0",
    "_uuid": "d629ff2d2480ee46fbb7e2d37f6b5fab8052498a",
    "collapsed": true
   },
   "outputs": [],
   "source": [
    "ind_previous_month = (sales_df.month == 10) & (sales_df.year == 2015)\n",
    "sales_previous_month_df = sales_df[ind_previous_month].groupby([\"shop_id\", \"item_id\"], as_index=False).item_cnt_day.sum().rename(columns={\"item_cnt_day\": \"item_cnt_month\"})"
   ]
  },
  {
   "cell_type": "code",
   "execution_count": 8,
   "metadata": {
    "_cell_guid": "d8a9397e-34f0-4d1a-86d1-b654fd3f8503",
    "_uuid": "6100049066dac2cdafac8f0b5cd6daf92ddf5fae",
    "collapsed": true
   },
   "outputs": [
    {
     "data": {
      "text/html": [
       "<div>\n",
       "<style scoped>\n",
       "    .dataframe tbody tr th:only-of-type {\n",
       "        vertical-align: middle;\n",
       "    }\n",
       "\n",
       "    .dataframe tbody tr th {\n",
       "        vertical-align: top;\n",
       "    }\n",
       "\n",
       "    .dataframe thead th {\n",
       "        text-align: right;\n",
       "    }\n",
       "</style>\n",
       "<table border=\"1\" class=\"dataframe\">\n",
       "  <thead>\n",
       "    <tr style=\"text-align: right;\">\n",
       "      <th></th>\n",
       "      <th>shop_id</th>\n",
       "      <th>item_id</th>\n",
       "      <th>item_cnt_month</th>\n",
       "    </tr>\n",
       "  </thead>\n",
       "  <tbody>\n",
       "    <tr>\n",
       "      <th>0</th>\n",
       "      <td>2</td>\n",
       "      <td>31</td>\n",
       "      <td>1.0</td>\n",
       "    </tr>\n",
       "    <tr>\n",
       "      <th>1</th>\n",
       "      <td>2</td>\n",
       "      <td>486</td>\n",
       "      <td>3.0</td>\n",
       "    </tr>\n",
       "    <tr>\n",
       "      <th>2</th>\n",
       "      <td>2</td>\n",
       "      <td>787</td>\n",
       "      <td>1.0</td>\n",
       "    </tr>\n",
       "    <tr>\n",
       "      <th>3</th>\n",
       "      <td>2</td>\n",
       "      <td>794</td>\n",
       "      <td>1.0</td>\n",
       "    </tr>\n",
       "    <tr>\n",
       "      <th>4</th>\n",
       "      <td>2</td>\n",
       "      <td>968</td>\n",
       "      <td>1.0</td>\n",
       "    </tr>\n",
       "  </tbody>\n",
       "</table>\n",
       "</div>"
      ],
      "text/plain": [
       "   shop_id  item_id  item_cnt_month\n",
       "0        2       31             1.0\n",
       "1        2      486             3.0\n",
       "2        2      787             1.0\n",
       "3        2      794             1.0\n",
       "4        2      968             1.0"
      ]
     },
     "execution_count": 8,
     "metadata": {},
     "output_type": "execute_result"
    }
   ],
   "source": [
    "sales_previous_month_df.head()"
   ]
  },
  {
   "cell_type": "markdown",
   "metadata": {
    "_cell_guid": "d7a2f952-a172-4d7a-ad6e-4ee628e88f92",
    "_uuid": "36259e9c771be4fae995c438f57518befdad0f01"
   },
   "source": [
    "# Submission"
   ]
  },
  {
   "cell_type": "code",
   "execution_count": 9,
   "metadata": {
    "_cell_guid": "c98aa62d-63ec-4311-9355-49d89450d2a6",
    "_uuid": "224b76a1ef09c4564ec50edcb22c4b7ff8d1d050",
    "collapsed": true
   },
   "outputs": [],
   "source": [
    "submission_name = \"benchmarks/previous_value_benchmark\"\n",
    "create_submission_file(sales_previous_month_df, submission_name, add_timestamp=False)"
   ]
  },
  {
   "cell_type": "code",
   "execution_count": null,
   "metadata": {
    "_cell_guid": "ac2581bb-6c6e-4f5b-bd98-10ecdadd52c5",
    "_uuid": "134f8a1eb80a6c4ecd62a680a08094dce49a84d0",
    "collapsed": true,
    "scrolled": true
   },
   "outputs": [],
   "source": [
    "ls submissions/benchmarks/"
   ]
  },
  {
   "cell_type": "code",
   "execution_count": null,
   "metadata": {},
   "outputs": [],
   "source": []
  },
  {
   "cell_type": "markdown",
   "metadata": {
    "_cell_guid": "a25ae655-76c3-48ea-a73a-a04c5a3e3eb5",
    "_uuid": "6c4d5518fc71a41c490555fc331ec4402206957f"
   },
   "source": [
    "> Score: 1.16777"
   ]
  }
 ],
 "metadata": {
  "kernelspec": {
   "display_name": "Python 3",
   "language": "python",
   "name": "python3"
  },
  "language_info": {
   "codemirror_mode": {
    "name": "ipython",
    "version": 3
   },
   "file_extension": ".py",
   "mimetype": "text/x-python",
   "name": "python",
   "nbconvert_exporter": "python",
   "pygments_lexer": "ipython3",
   "version": "3.6.4"
  }
 },
 "nbformat": 4,
 "nbformat_minor": 2
}
